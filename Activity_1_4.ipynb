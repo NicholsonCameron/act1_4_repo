{
  "nbformat": 4,
  "nbformat_minor": 0,
  "metadata": {
    "colab": {
      "provenance": []
    },
    "kernelspec": {
      "name": "python3",
      "display_name": "Python 3"
    },
    "language_info": {
      "name": "python"
    }
  },
  "cells": [
    {
      "cell_type": "code",
      "execution_count": 15,
      "metadata": {
        "id": "xZPKNZq9cWuk"
      },
      "outputs": [],
      "source": [
        "triangle_area = lambda b, h: 1/2*(b*h)"
      ]
    },
    {
      "cell_type": "code",
      "source": [
        "triangle_area(3,4)"
      ],
      "metadata": {
        "colab": {
          "base_uri": "https://localhost:8080/"
        },
        "id": "GGxIqbjSdRAn",
        "outputId": "021cae26-995c-4d50-bd57-b907d12a2cd1"
      },
      "execution_count": 16,
      "outputs": [
        {
          "output_type": "execute_result",
          "data": {
            "text/plain": [
              "6.0"
            ]
          },
          "metadata": {},
          "execution_count": 16
        }
      ]
    },
    {
      "cell_type": "code",
      "source": [
        "def test_triangle_area():\n",
        "  assert triangle_area(3,4) == 6\n",
        "  assert triangle_area(5, 10) == 25\n",
        "  assert triangle_area(10, 0) == 0\n",
        "  assert triangle_area(20, 50) == 500\n",
        "test_triangle_area()"
      ],
      "metadata": {
        "id": "Onk0bT7zcqMp"
      },
      "execution_count": 17,
      "outputs": []
    },
    {
      "cell_type": "code",
      "source": [
        "def triangle_area(b, h):\n",
        "    \"\"\"Computes the area of a triangle\n",
        "\n",
        "       Args:\n",
        "           b (base): a number that is the base of the triangle\n",
        "           h (height): a number that is the height of the triangle\n",
        "\n",
        "       Returns:\n",
        "           A number representing the area of a triangle\n",
        "    \"\"\"\n",
        "    output = 1/2*(b*h)\n",
        "    return output\n",
        "\n",
        "def test_triangle_area():\n",
        "    assert triangle_area(3, 4) == 6\n",
        "    assert triangle_area(10, 0) == 0\n",
        "test_triangle_area()"
      ],
      "metadata": {
        "id": "xI2354i3dV4Q"
      },
      "execution_count": 19,
      "outputs": []
    },
    {
      "cell_type": "code",
      "source": [
        "help(triangle_area)"
      ],
      "metadata": {
        "colab": {
          "base_uri": "https://localhost:8080/"
        },
        "id": "qSH3kV-iexvu",
        "outputId": "ee3d25c8-c0c1-4327-e378-97f4c72f365c"
      },
      "execution_count": 20,
      "outputs": [
        {
          "output_type": "stream",
          "name": "stdout",
          "text": [
            "Help on function triangle_area in module __main__:\n",
            "\n",
            "triangle_area(b, h)\n",
            "    Computes the area of a triangle\n",
            "    \n",
            "    Args:\n",
            "        b (base): a number that is the base of the triangle \n",
            "        h (height): a number that is the height of the triangle\n",
            "    \n",
            "    Returns:\n",
            "        A number representing the area of a triangle\n",
            "\n"
          ]
        }
      ]
    },
    {
      "cell_type": "code",
      "source": [],
      "metadata": {
        "id": "Ujg4n3s4e4i-"
      },
      "execution_count": null,
      "outputs": []
    }
  ]
}